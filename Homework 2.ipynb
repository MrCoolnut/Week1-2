{
 "cells": [
  {
   "cell_type": "markdown",
   "metadata": {},
   "source": [
    "# Introduction to Artificial Intelligence for Non Computing"
   ]
  },
  {
   "cell_type": "markdown",
   "metadata": {},
   "source": [
    "## Practical 2 (weeks 3 - 4)"
   ]
  },
  {
   "cell_type": "markdown",
   "metadata": {},
   "source": [
    "## Search Techniques"
   ]
  },
  {
   "cell_type": "markdown",
   "metadata": {},
   "source": [
    "The following links provide additional information about depth first search and breath first search"
   ]
  },
  {
   "cell_type": "markdown",
   "metadata": {},
   "source": [
    "- Depth first search:   link：https://pan.baidu.com/s/1bkLHKKbSBNpfFuKwDyURqw  password：oy76\n",
    "- Breath first search:  link：https://pan.baidu.com/s/176g5q0W3rGbSAM5tZMraeg   password：7mdh"
   ]
  },
  {
   "cell_type": "markdown",
   "metadata": {},
   "source": [
    "#### Theory Questions "
   ]
  },
  {
   "cell_type": "markdown",
   "metadata": {},
   "source": [
    "1\\. What is an algorithm? A sequence of steps such as a recipe or a movie script.\n",
    "\n",
    "As a movie viewer, please write an algorithm for a process to \"see a movie\". Include details of the following for example (add additional information yourself):\n",
    "\t- The start conditions \n",
    "\t-- I want to watch a movie\n",
    "\t- Roles (people/actors involved) \n",
    "    --watcher, ticket seller etc \n",
    "    -Equipment required (\"props\")\n",
    "    --seats, ticket etc\n",
    "    - The scenes \n",
    "    -- scene 1 - buy ticket \n",
    "    -- ??? what happens next\n",
    "    -- scene 3, scene 3 ...\n",
    "    - Results/outcomes\n",
    "    -- ?\n"
   ]
  },
  {
   "cell_type": "markdown",
   "metadata": {},
   "source": [
    "1. I want to watch a movie when there are movies on.  \n",
    "2. I go to the cinema and give my money to the ticket seller.  \n",
    "3. The ticket seller gives me the ticket.  \n",
    "4. I go to the entrance and give my ticket to the ticket inspector.  \n",
    "5. The ticket inspector lets me in.  \n",
    "6. I find the seat which corresponds to my ticket.  \n",
    "7. I watch the movie.  \n",
    "8. Movie starts.  \n",
    "9. Movie overs.  \n",
    "10. I go out from the cinema.  \n",
    "11. Cinema earns money  \n",
    "\n",
    "***"
   ]
  },
  {
   "cell_type": "markdown",
   "metadata": {},
   "source": [
    "2\\. A farmer with his wolf, duck and bag of corn come to the east side of a river they wish to cross. There is a boat at the rivers edge, but of course only the farmer can row. The boat can only hold two things (including the rower) at any one time. If the wolf is ever left alone with the duck, the wolf will eat it. Similarly if the duck is ever left alone with the corn, the duck will eat it. How can the farmer get across the river so that all four arrive safely on the other side? "
   ]
  },
  {
   "cell_type": "markdown",
   "metadata": {},
   "source": [
    "1. The farmer takes the duck to the other side.  \n",
    "2. The farmer returns alone.  \n",
    "3. The farmer takes the wolf to the other side.  \n",
    "4. The farmer returns with the duck.  \n",
    "5. The farmer takes the bag of corn to the other side.  \n",
    "6. The farmer returns alone.  \n",
    "7. The farmer takes the duck to the other side.  \n",
    "\n",
    "***"
   ]
  },
  {
   "cell_type": "markdown",
   "metadata": {},
   "source": [
    " "
   ]
  },
  {
   "cell_type": "markdown",
   "metadata": {},
   "source": [
    "3\\.Explain why we determine our problem goals before we write the problem formulation (including the model and deciding what algorithm or techniques to use - for example search, or other method).\n",
    "\n",
    "See Chapter3.1 (Russel & Norvig)"
   ]
  },
  {
   "cell_type": "markdown",
   "metadata": {},
   "source": [
    "It can simplify the maximun performance measurement.  \n",
    "In goal formulation,we decide which aspects of the world we are interested in,and which can be ignored or abstracted away. Then in problem formulation we decide how to manipulate the important aspects(and ignore the others). If we did problem formulation first we would not know what to include and what to leave out. That said, it can happen that there is a cycle of iterations between goal formulation, problem fomulation, and probem solving until one arrives at a sufficiently uesful and efficient solution\n",
    "\n",
    "****"
   ]
  },
  {
   "cell_type": "markdown",
   "metadata": {},
   "source": [
    "4\\. This question requires you to perform BFS and DFS on paper.\n",
    "\n",
    "<img src=\"img/p1.png\" width=\"180\" height=\"180\" >\n",
    "\n",
    "1. Simulate (on pencil-and-paper) breadth-first search starting from node A when the goal node is K.\n",
    "2. Simulate (on pencil-and-paper) depth first search starting from node A when the goal node is I.\n"
   ]
  },
  {
   "cell_type": "markdown",
   "metadata": {},
   "source": [
    "1. A-B-C-D-E-F-H-G-I-K  \n",
    "2. A-B-C-E-F-D-H-I  \n",
    "\n",
    "***"
   ]
  },
  {
   "cell_type": "markdown",
   "metadata": {},
   "source": [
    "5\\.Consider a state space where the start state is number 1 and each state  k has two successors: numbers 2k and 2k + 1.\n",
    "- a. Draw the portion of the state space for states 1 to 15.\n",
    "- b. Suppose the goal state is 11. List the order in which nodes will be visited for breadthfirst\n",
    "search, depth-limited search with limit 3, and iterative deepening search.\n",
    "- c. How well would bidirectional search work on this problem? What is the branching\n",
    "factor in each direction of the bidirectional search?\n",
    "- d. Does the answer to (c) suggest a reformulation of the problem that would allow you to\n",
    "solve the problem of getting from state 1 to a given goal state with almost no search?\n",
    "- e. Call the action going from k to 2k Left, and the action going to 2k + 1 Right. Can you\n",
    "find an algorithm that outputs the solution to this problem without any search at all?\n",
    "\n",
    "See textbook Chapter3.15"
   ]
  },
  {
   "cell_type": "markdown",
   "metadata": {},
   "source": [
    "a.  \n",
    "<img src=\"img/Question5.jpg\" width=\"300\" height=\"200\" >  \n",
    "b.  \n",
    "Breadth-first search : 1-2-3-4-5-6-7-8-9-10-11  \n",
    "Depth-first search : 1-2-4-8-9-5-10-11  \n",
    "Iterative deepening search : 1-1-2-3-1-2-4-5-3-6-7-1-2-4-8-9-5-10-11  \n",
    "c.  \n",
    "Bidirectional search improve the efficiency of search.  \n",
    "Branching factor of forward direction : 2  \n",
    "Branching factor of reverse direction : 1  \n",
    "d.  \n",
    "Yes. Apply the reverse direction search in bidirectional search from the goal.  \n",
    "e.  \n",
    "Transfer the number into binary number. Then count the goal number from right to left. When it is \"1\", go right. When it is \"0\", go left.  \n",
    "\n",
    "***"
   ]
  },
  {
   "cell_type": "markdown",
   "metadata": {},
   "source": [
    "### Programming Excercises"
   ]
  },
  {
   "cell_type": "markdown",
   "metadata": {},
   "source": [
    "1\\.Write a program to solve a classic ancient Chinese puzzle:  \n",
    " We count 35 heads and 94 legs among the chickens and rabbits in a farm. How many rabbits and how many chickens do we have? "
   ]
  },
  {
   "cell_type": "code",
   "execution_count": 3,
   "metadata": {},
   "outputs": [
    {
     "name": "stdout",
     "output_type": "stream",
     "text": [
      "There are 23 chickens and 12 rabbits.\n"
     ]
    }
   ],
   "source": [
    "def CACP ( heads , legs ) :\n",
    "    chicken = 0\n",
    "    rabbit = 0\n",
    "    \n",
    "    for i in range ( 0 , heads + 1 ) :\n",
    "        if ( 2 * i + 4 * ( heads - i ) == legs ) :\n",
    "            chicken = i\n",
    "            rabbit = heads - i\n",
    "            \n",
    "    print ( \"There are %d chickens and %d rabbits.\" % ( chicken , rabbit ))\n",
    "    \n",
    "CACP( 35 , 94 )"
   ]
  },
  {
   "cell_type": "markdown",
   "metadata": {},
   "source": [
    "2\\. _Social networking_ Please look at the graph below of social relationships. You have a mango farm, you need to find a mango buyer and sell him your mango that you have grown (just a small farm). To this end, our principle is to use our social network of friends separated by one degree, and then second degree friends (friends of friends), third degree friends (friends of friends of friends).\n",
    "\n",
    "Use the depth first algorithm to search your network until you find a mango seller. \n",
    "\n",
    "We make an assumption that if the person's name ends with m, then it means the person must be the mango seller!\n",
    "\n",
    "\n",
    "<img src=\"img/p3.png\" width=\"500\" height=\"400\" >"
   ]
  },
  {
   "cell_type": "code",
   "execution_count": 14,
   "metadata": {},
   "outputs": [
    {
     "name": "stdout",
     "output_type": "stream",
     "text": [
      "you\n",
      "bob\n",
      "anuj\n",
      "peggy\n",
      "alice\n",
      "claire\n",
      "jonny\n",
      "thom\n"
     ]
    }
   ],
   "source": [
    "class Node :\n",
    "    def __init__ ( self , name ) :\n",
    "        self.name = name\n",
    "        self.next = []\n",
    "        self.visit = 0\n",
    "    \n",
    "you = Node ( \"you\" )\n",
    "bob = Node ( \"bob\" )\n",
    "alice = Node ( \"alice\" )\n",
    "claire = Node ( \"claire\" )\n",
    "anuj = Node ( \"anuj\" )\n",
    "peggy = Node ( \"peggy\" )\n",
    "jonny = Node ( \"jonny\" )\n",
    "thom = Node ( \"thom\" )\n",
    "\n",
    "you.next.append( bob )\n",
    "you.next.append( alice )\n",
    "you.next.append( claire )\n",
    "bob.next.append( anuj )\n",
    "bob.next.append( peggy )\n",
    "alice.next.append( peggy )\n",
    "claire.next.append( jonny )\n",
    "claire.next.append( thom )\n",
    "\n",
    "def DFS ( Node ) :\n",
    "    Node.visit = 1\n",
    "    print ( Node.name )\n",
    "    \n",
    "    if ( Node.name[ len( Node.name ) - 1 ] == \"m\" ):\n",
    "        return;\n",
    "    \n",
    "    if ( Node.next != [] ) :\n",
    "        for i in Node.next :\n",
    "            if ( i.visit == 0 ):\n",
    "                DFS ( i )\n",
    "            \n",
    "DFS ( you )"
   ]
  },
  {
   "cell_type": "markdown",
   "metadata": {},
   "source": [
    "3\\. Depth First traverse：Use depth first traversal to traverse all the DLL files on the C disk and output the file names.\n",
    "\n",
    "Update your code to search for a particular filename.\n",
    "\n",
    "What protocol did you use to select the next node to expand on the fringe?"
   ]
  },
  {
   "cell_type": "code",
   "execution_count": 3,
   "metadata": {},
   "outputs": [],
   "source": [
    "import os\n",
    "\n",
    "def DFT ( path ) :\n",
    "    files = os.listdir( path )\n",
    "    \n",
    "    for i in files :\n",
    "        subpath = os.path.join( path , i )\n",
    "        \n",
    "        if os.path.isdir( subpath ) :\n",
    "            DFT ( subpath )\n",
    "        \n",
    "        if os.path.isfile( subpath ) :\n",
    "            if ( os.path.splitext( subpath )[1] == \".dll\" ) :\n",
    "                print ( subpath )\n",
    "                \n",
    "try :\n",
    "    DFT( \"D:\\\\\" )\n",
    "except :\n",
    "    pass"
   ]
  },
  {
   "cell_type": "markdown",
   "metadata": {},
   "source": [
    "4\\.\n",
    "Breadth First traverse：Use breadth traversal to traverse all the DLL files on the C disk and output the filename.\n",
    "\n",
    "Update your code to search for a particular filename."
   ]
  },
  {
   "cell_type": "code",
   "execution_count": 5,
   "metadata": {},
   "outputs": [],
   "source": [
    "import os\n",
    "\n",
    "def BFS( path ):\n",
    "    \n",
    "    List = []\n",
    "    List.append( path )\n",
    "    \n",
    "    while len( List ) > 0 :\n",
    "        temp = List.pop( 0 )\n",
    "        \n",
    "        if( os.path.isdir( temp )) : \n",
    "            for i in os.listdir( temp ) :                \n",
    "                List.append( os.path.join( temp, i ))                   \n",
    "        \n",
    "        if( os.path.isfile( temp )) :\n",
    "            dirname, filename = os.path.splitext( temp )\n",
    "            if( filename == \".dll\" ) :\n",
    "                print( temp )\n",
    "    \n",
    "try :\n",
    "    BFS( \"D:\\\\\" )\n",
    "except :\n",
    "    pass"
   ]
  },
  {
   "cell_type": "markdown",
   "metadata": {},
   "source": [
    "5\\. Uniform cost search"
   ]
  },
  {
   "cell_type": "markdown",
   "metadata": {},
   "source": [
    "Consider a state space where the start state is 2 and each state k has three successors: numbers 2k, 2k+1, 2k+2. The cost from state k to each respective child is k, ground(k/2), k+2.\n",
    "\n",
    "can you implement a uniform-cost-search algorithm with python. The goal state is number 85."
   ]
  },
  {
   "cell_type": "code",
   "execution_count": 45,
   "metadata": {},
   "outputs": [
    {
     "name": "stdout",
     "output_type": "stream",
     "text": [
      "58\n"
     ]
    }
   ],
   "source": [
    "import math\n",
    "\n",
    "class Node :\n",
    "    def __init__( self , value ) :\n",
    "        self.value = value\n",
    "        self.edge = []\n",
    "        self.sub = []\n",
    "        self.cost = 0\n",
    "        self.visit = 0\n",
    "        \n",
    "def BuildGraph( k ) :\n",
    "    temp = Node( k )\n",
    "    \n",
    "    if( 2 * k <= 85 ) :\n",
    "        temp.edge.append( k )\n",
    "        temp.edge.append( math.floor( k / 2 ))\n",
    "        temp.edge.append( k + 2 )\n",
    "    \n",
    "        temp.sub.append( BuildGraph( 2 * k ))\n",
    "        temp.sub.append( BuildGraph( 2 * k + 1 ))\n",
    "        temp.sub.append( BuildGraph( 2 * k + 2 ))\n",
    "        \n",
    "    return temp\n",
    "        \n",
    "root = BuildGraph( 2 )\n",
    "\n",
    "List = []\n",
    "\n",
    "def UCS( node , target , List ) :\n",
    "    if( node.value == target ) :\n",
    "        print ( node.cost )\n",
    "    else :\n",
    "        for i in range( len( node.sub )) :\n",
    "            if node.sub[i] in List :\n",
    "                node.sub[i].cost = min( node.sub[i].cost , node.cost + node.edge[i] )\n",
    "            else :\n",
    "                node.sub[i].cost = node.cost + node.edge[i]\n",
    "                List.append( node.sub[i] )\n",
    "            \n",
    "        List = sorted( List , key = lambda Node : Node.edge )\n",
    "        \n",
    "        UCS( List.pop( 0 ) , target , List )\n",
    "\n",
    "result = UCS( root , 85 , List )"
   ]
  },
  {
   "cell_type": "markdown",
   "metadata": {},
   "source": [
    "6\\.a* question"
   ]
  },
  {
   "cell_type": "markdown",
   "metadata": {},
   "source": [
    "A cute cat stays in the A position, he is hungry. But the food is placed in the B position. Can you help him to find the food? \n",
    "Hint:  The problem isn't easy. It's essential for you to understand the A* algorithm before you solve this problem. Then, you can use some thought of Node in java, when you are in code.\n",
    "\n",
    "<img src=\"img/p4.png\" width=\"500\" height=\"400\" >\n"
   ]
  },
  {
   "cell_type": "code",
   "execution_count": null,
   "metadata": {
    "collapsed": true
   },
   "outputs": [],
   "source": [
    "## write your answer here!"
   ]
  }
 ],
 "metadata": {
  "kernelspec": {
   "display_name": "Python 3",
   "language": "python",
   "name": "python3"
  },
  "language_info": {
   "codemirror_mode": {
    "name": "ipython",
    "version": 3
   },
   "file_extension": ".py",
   "mimetype": "text/x-python",
   "name": "python",
   "nbconvert_exporter": "python",
   "pygments_lexer": "ipython3",
   "version": "3.6.5"
  }
 },
 "nbformat": 4,
 "nbformat_minor": 2
}

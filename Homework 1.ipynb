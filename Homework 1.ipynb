{
 "cells": [
  {
   "cell_type": "markdown",
   "metadata": {},
   "source": [
    "Q1."
   ]
  },
  {
   "cell_type": "code",
   "execution_count": 9,
   "metadata": {
    "collapsed": true
   },
   "outputs": [],
   "source": [
    "fruits = [ \"apple\" , \"pear\" , \"orange\" , \"pinapple\" , \"mandarin\" ]"
   ]
  },
  {
   "cell_type": "markdown",
   "metadata": {
    "collapsed": true
   },
   "source": [
    "Q2."
   ]
  },
  {
   "cell_type": "code",
   "execution_count": 10,
   "metadata": {},
   "outputs": [
    {
     "name": "stdout",
     "output_type": "stream",
     "text": [
      "I found it !\n"
     ]
    }
   ],
   "source": [
    "for i in range( len( fruits )):\n",
    "    if fruits[i] == \"apple\":\n",
    "        print ( \"I found it !\" )"
   ]
  },
  {
   "cell_type": "markdown",
   "metadata": {},
   "source": [
    "Q3."
   ]
  },
  {
   "cell_type": "code",
   "execution_count": 12,
   "metadata": {
    "collapsed": true
   },
   "outputs": [],
   "source": [
    "fruits.append( \"banana\" )\n",
    "fruits.append( \"kiwi\" )"
   ]
  },
  {
   "cell_type": "code",
   "execution_count": 13,
   "metadata": {
    "scrolled": true
   },
   "outputs": [
    {
     "data": {
      "text/plain": [
       "['apple', 'pear', 'orange', 'pinapple', 'mandarin', 'banana', 'kiwi']"
      ]
     },
     "execution_count": 13,
     "metadata": {},
     "output_type": "execute_result"
    }
   ],
   "source": [
    "fruits"
   ]
  },
  {
   "cell_type": "markdown",
   "metadata": {},
   "source": [
    "Q4."
   ]
  },
  {
   "cell_type": "code",
   "execution_count": 30,
   "metadata": {},
   "outputs": [
    {
     "name": "stdout",
     "output_type": "stream",
     "text": [
      "apple has 5 letters\n",
      "pear has 4 letters\n",
      "orange has 6 letters\n",
      "pinapple has 8 letters\n",
      "mandarin has 8 letters\n",
      "banana has 6 letters\n",
      "kiwi has 4 letters\n"
     ]
    }
   ],
   "source": [
    "letters = []\n",
    "\n",
    "for i in range( len( fruits )):\n",
    "    letters.append( str( len( fruits[i] )))\n",
    "\n",
    "for i in range( len( letters )):\n",
    "    print( fruits[i] + \" has \" + letters[i] + \" letters\" )"
   ]
  },
  {
   "cell_type": "markdown",
   "metadata": {},
   "source": [
    "Q5"
   ]
  },
  {
   "cell_type": "code",
   "execution_count": 35,
   "metadata": {
    "collapsed": true
   },
   "outputs": [],
   "source": [
    "def half_squared( n ):\n",
    "    for i in range( len( n )):\n",
    "        n[i] = n[i]*n[i]/2\n",
    "    return n"
   ]
  },
  {
   "cell_type": "code",
   "execution_count": 36,
   "metadata": {},
   "outputs": [
    {
     "data": {
      "text/plain": [
       "True"
      ]
     },
     "execution_count": 36,
     "metadata": {},
     "output_type": "execute_result"
    }
   ],
   "source": [
    "half_squared( [3 , 3] ) == [4.5, 4.5]"
   ]
  },
  {
   "cell_type": "markdown",
   "metadata": {},
   "source": [
    "Q6."
   ]
  },
  {
   "cell_type": "code",
   "execution_count": 38,
   "metadata": {},
   "outputs": [
    {
     "name": "stdout",
     "output_type": "stream",
     "text": [
      "Input first nubmer: 61\n",
      "B\n"
     ]
    }
   ],
   "source": [
    "Scores = int( input( \"Input first nubmer: \"))\n",
    "\n",
    "if ( Scores >= 90 ):\n",
    "    print( \"A\" )\n",
    "elif ( Scores >= 60 ):\n",
    "    print( \"B\" )\n",
    "else:\n",
    "    print( \"C\" )"
   ]
  },
  {
   "cell_type": "markdown",
   "metadata": {},
   "source": [
    "Q7."
   ]
  },
  {
   "cell_type": "code",
   "execution_count": 41,
   "metadata": {
    "collapsed": true
   },
   "outputs": [],
   "source": [
    "def revSort( a , b , c ):\n",
    "    a , b , c = c , a , b\n",
    "    return a , b , c"
   ]
  },
  {
   "cell_type": "code",
   "execution_count": 42,
   "metadata": {},
   "outputs": [
    {
     "data": {
      "text/plain": [
       "(32, 12, 4)"
      ]
     },
     "execution_count": 42,
     "metadata": {},
     "output_type": "execute_result"
    }
   ],
   "source": [
    "revSort( 12 , 4 , 32 )"
   ]
  },
  {
   "cell_type": "markdown",
   "metadata": {},
   "source": [
    "Q8."
   ]
  },
  {
   "cell_type": "code",
   "execution_count": 46,
   "metadata": {
    "collapsed": true
   },
   "outputs": [],
   "source": [
    "def Traverse( arrs ):\n",
    "    for i in range( len( arrs )):\n",
    "        for j in range( len( arrs[i] )):\n",
    "            print( arrs[i][j] , end = \" \" )"
   ]
  },
  {
   "cell_type": "code",
   "execution_count": 47,
   "metadata": {},
   "outputs": [
    {
     "name": "stdout",
     "output_type": "stream",
     "text": [
      "1 2 3 4 5 6 "
     ]
    }
   ],
   "source": [
    "Traverse( [[ 1 , 2 , 3 ] , [ 4 , 5 , 6 ]])"
   ]
  },
  {
   "cell_type": "markdown",
   "metadata": {},
   "source": [
    "Q9."
   ]
  },
  {
   "cell_type": "code",
   "execution_count": 50,
   "metadata": {},
   "outputs": [
    {
     "name": "stdout",
     "output_type": "stream",
     "text": [
      "0 1 8 17 18 26 27 "
     ]
    }
   ],
   "source": [
    "for i in range( 0 , 101 ):\n",
    "    Cube = str( i**3 )\n",
    "    Sum = 0\n",
    "    \n",
    "    for j in range( len( Cube )):\n",
    "        Sum += int( Cube[j] )\n",
    "        \n",
    "    if ( i == Sum ):\n",
    "        print( i , end = \" \" )"
   ]
  },
  {
   "cell_type": "markdown",
   "metadata": {},
   "source": [
    "Q10."
   ]
  },
  {
   "cell_type": "code",
   "execution_count": 52,
   "metadata": {},
   "outputs": [
    {
     "name": "stdout",
     "output_type": "stream",
     "text": [
      "9 1\n",
      "1 9\n"
     ]
    }
   ],
   "source": [
    "import random\n",
    "\n",
    "x = random.randint( 1 , 10 )\n",
    "y = random.randint( 1 , 10 )\n",
    "\n",
    "print( x , y )\n",
    "\n",
    "x , y = y , x\n",
    "\n",
    "print( x , y )"
   ]
  },
  {
   "cell_type": "markdown",
   "metadata": {},
   "source": [
    "Q11."
   ]
  },
  {
   "cell_type": "code",
   "execution_count": 62,
   "metadata": {},
   "outputs": [
    {
     "name": "stdout",
     "output_type": "stream",
     "text": [
      "   *   \n",
      "  ***  \n",
      " ***** \n",
      "*******\n",
      " ***** \n",
      "  ***  \n",
      "   *   \n"
     ]
    }
   ],
   "source": [
    "for i in range( 3 , 0 , -1 ):\n",
    "    print( i*\" \" + ( 3 - i )*\"*\" + \"*\" + ( 3 - i )*\"*\" + i*\" \" )\n",
    "\n",
    "for i in range( 0 , 4 ):\n",
    "    print( i*\" \" + ( 3 - i )*\"*\" + \"*\" + ( 3 - i )*\"*\" + i*\" \" )"
   ]
  },
  {
   "cell_type": "markdown",
   "metadata": {},
   "source": [
    "Q12."
   ]
  },
  {
   "cell_type": "code",
   "execution_count": 64,
   "metadata": {},
   "outputs": [
    {
     "name": "stdout",
     "output_type": "stream",
     "text": [
      "123456\n",
      "234561\n",
      "345612\n",
      "456123\n",
      "561234\n",
      "612345\n"
     ]
    }
   ],
   "source": [
    "for i in range( 1 , 7 ):\n",
    "    for j in range( i , 7 ):\n",
    "        print( j , end = \"\" )\n",
    "    for k in range( 1 , i ):\n",
    "        print( k , end = \"\" )\n",
    "    print()"
   ]
  },
  {
   "cell_type": "markdown",
   "metadata": {},
   "source": [
    "Q13."
   ]
  },
  {
   "cell_type": "code",
   "execution_count": 65,
   "metadata": {},
   "outputs": [
    {
     "name": "stdout",
     "output_type": "stream",
     "text": [
      "Charles Martina Michael Florence Eli "
     ]
    }
   ],
   "source": [
    "players = [ \"charles\" , \"martina\" , \"michael\" , \"florence\" , \"eli\" ]\n",
    "\n",
    "for i in range( len( players )):\n",
    "    print( players[i].title() , end = \" \" )"
   ]
  }
 ],
 "metadata": {
  "kernelspec": {
   "display_name": "Python 3",
   "language": "python",
   "name": "python3"
  },
  "language_info": {
   "codemirror_mode": {
    "name": "ipython",
    "version": 3
   },
   "file_extension": ".py",
   "mimetype": "text/x-python",
   "name": "python",
   "nbconvert_exporter": "python",
   "pygments_lexer": "ipython3",
   "version": "3.6.1"
  }
 },
 "nbformat": 4,
 "nbformat_minor": 2
}
